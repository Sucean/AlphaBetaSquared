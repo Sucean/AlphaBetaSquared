{
 "cells": [
  {
   "cell_type": "markdown",
   "id": "53fed7b0-5bbf-4fac-a9da-fa885c70283d",
   "metadata": {},
   "source": [
    "# Alpha-Beta² Plotter\n",
    "\n",
    "\n",
    "\n",
    "This project provides an open-source, user-friendly implementation of the established α-β² method for\n",
    "analyzing crystallite size distributions, originally developed by Eberl et al. (1998). We hope to encourage\n",
    "with this easy-to-use framework other people to further expand the knowledge of controlling factors in crystallite growth.\n",
    "\n",
    "\n",
    "## Import\n",
    "Import the class from the alphabetasquared package after installation (see [Github](https://github.com/Sucean/AlphaBetaSquared))"
   ]
  },
  {
   "cell_type": "code",
   "execution_count": 1,
   "id": "099b4be5-ce80-4747-9441-3562eb91ea5c",
   "metadata": {},
   "outputs": [],
   "source": [
    "from alphabetasquared import AlphaBetaSquared"
   ]
  },
  {
   "cell_type": "markdown",
   "id": "08a742f0-9216-4472-abc3-feb7a091a240",
   "metadata": {},
   "source": [
    "## Usage\n",
    "\n",
    "To load a dataset, the CSV file has to be formated like:\n",
    "\n",
    "| Ex-1 | Ex-2 | Ex-3 |\n",
    "|------|------|------|\n",
    "| 2.3  | 4.2  | 1.0  |\n",
    "| 8.0  | 0.8  | 8.2  |\n",
    "| ...  | ...  | ...  |\n",
    "\n",
    "**Important:** Make sure the CSV uses utf-8 encoding!\n",
    "\n",
    "During initialization, multiple strings or a list of strings with valid file path can be given as arguments to load the data:"
   ]
  },
  {
   "cell_type": "code",
   "execution_count": 2,
   "id": "e6191953-889e-4b42-9067-7333802e5c66",
   "metadata": {},
   "outputs": [],
   "source": [
    "abs = AlphaBetaSquared(\"dataset-1.csv\", \"dataset-2.csv\", \"dataset-3.csv\")"
   ]
  },
  {
   "cell_type": "markdown",
   "id": "7cfd6af2-3691-4588-a759-c24209da0ccf",
   "metadata": {},
   "source": [
    "## Example 1\n",
    "\n",
    "To make a simple Alpha-Beta² plot, you can use obj.plot_alphabeta().\n",
    "\n",
    "This will plot all datasets loaded during initialization.\n",
    "\n",
    "When obj.set_alphabeta_scale(True), it will automaticly scale the plot.\n",
    "\n",
    "To display the plot, use abs.show()"
   ]
  },
  {
   "cell_type": "code",
   "execution_count": null,
   "id": "2f20e78b-c31f-40ca-a5a5-9205be3ee840",
   "metadata": {},
   "outputs": [],
   "source": [
    "abs.set_alphabeta_scale(True)\n",
    "abs.plot_alphabeta()\n",
    "abs.show()"
   ]
  },
  {
   "cell_type": "markdown",
   "id": "21d9fa2f-3ffd-413d-a808-7a62dd3effeb",
   "metadata": {},
   "source": [
    "## Example 2\n",
    "\n",
    "Like in Example 1, the distributions of the individual distributions of the datasets can be plotted like this.\n",
    "\n",
    "This will automaticly calculate the distributions."
   ]
  },
  {
   "cell_type": "code",
   "execution_count": null,
   "id": "475b1876-9933-4860-aa1b-3dfd1ade9ca6",
   "metadata": {},
   "outputs": [],
   "source": [
    "abs.plot_distribution()\n",
    "abs.show()"
   ]
  },
  {
   "cell_type": "markdown",
   "id": "097ba787-a57f-4ad9-a937-3babbf95d91e",
   "metadata": {},
   "source": [
    "## Example 3\n",
    "\n",
    "It is also possible, to just plot specific datasets.\n",
    "\n",
    "For the Alpha-Beta² plot multiple strings with valid dataset names can be used.\n",
    "\n",
    "To plot specific distributions, use a dictionary with valid dataset names as key.\n",
    "The associated values can be either empty (\"\") to plot all distributions, or a list of individual distributions within the dataset."
   ]
  },
  {
   "cell_type": "code",
   "execution_count": null,
   "id": "c872b900-6c8f-4507-8be6-a63c4d25d6b1",
   "metadata": {},
   "outputs": [],
   "source": [
    "abs.plot_alphabeta(\"dataset-1\")\n",
    "abs.plot_distribution({'dataset-1' : [\"Ex-0\"]})\n",
    "abs.show()"
   ]
  },
  {
   "cell_type": "markdown",
   "id": "58268575-0911-4eb4-9a56-f9d0ba063450",
   "metadata": {},
   "source": [
    "## Saving Data\n",
    "\n",
    "For saving plots, simply set the specific Flag to True with obj.set_save_plot(True).\n",
    "\n",
    "If this is set to True, all following calls of *obj.plot_alphabeta()* and *obj.plot_distribution()* will save the plots as .png in the working directory"
   ]
  },
  {
   "cell_type": "code",
   "execution_count": null,
   "id": "cb2bd856-cac2-4b5e-8be4-443bfd9a6b69",
   "metadata": {},
   "outputs": [],
   "source": [
    "abs.set_save_plot(True)\n",
    "\n",
    "abs.plot_alphabeta()\n",
    "abs.show()"
   ]
  },
  {
   "cell_type": "markdown",
   "id": "47a46ea4-912b-4fe5-81bd-30da4fef8d34",
   "metadata": {},
   "source": [
    "To export all data use *obj.export_data()*.\n",
    "\n",
    "This will export alpha and beta values, the parameter for the lognorm fits and if previously calculated via obj.plot_distribution() or abj.calc_distribution() also the size distribution data as CSV files.\n",
    "\n",
    "With multiple strings as argument only specific data can be exporte.\n",
    "\n",
    "Valid arguments are: alpha, beta, size_distribution, lognorm_fits"
   ]
  },
  {
   "cell_type": "code",
   "execution_count": null,
   "id": "6b5db20f-bff5-49bc-b85b-d53e02086658",
   "metadata": {},
   "outputs": [],
   "source": [
    "abs.export_data()"
   ]
  },
  {
   "cell_type": "code",
   "execution_count": null,
   "id": "6a72123f-20ed-43f2-8bbc-aa075482c112",
   "metadata": {},
   "outputs": [],
   "source": [
    "abs.export_data('alpha', 'beta')"
   ]
  },
  {
   "cell_type": "markdown",
   "id": "8e1f5c09-9bf3-4dbe-b582-13556adc766c",
   "metadata": {},
   "source": [
    "## Example 4\n",
    "\n",
    "The *obj.plot_distribution()* method returns a list of mathplotlib figures.\n",
    "\n",
    "These figures can be manipulated like:"
   ]
  },
  {
   "cell_type": "code",
   "execution_count": null,
   "id": "45c320ad-c27c-4062-bfbe-456380b97b8c",
   "metadata": {},
   "outputs": [],
   "source": [
    "figures = abs.plot_distribution({'dataset-1' : [\"Ex-0\", \"Ex-1\"], 'dataset-2' : [\"Ex-1\"]})\n",
    "\n",
    "axes = figures[0].get_axes()\n",
    "\n",
    "for ax in axes:\n",
    "    ax.set_xlabel('Size [nm]')\n",
    "\n",
    "abs.show()"
   ]
  },
  {
   "cell_type": "markdown",
   "id": "e87d8e69-c990-4447-b22b-85b083bd9a81",
   "metadata": {},
   "source": [
    "## Example 5\n",
    "\n",
    "The *obj.plot_alphabeta()* also returns a matplotlib figure and the corresponding axes.\n",
    "\n",
    "These can be manipulated as seen in the example:"
   ]
  },
  {
   "cell_type": "code",
   "execution_count": null,
   "id": "ac5a1b75-bd69-4b30-9210-d2f06d9dd939",
   "metadata": {},
   "outputs": [],
   "source": [
    "fig, ax = abs.plot_alphabeta()\n",
    "\n",
    "for text in ax.texts:\n",
    "    text.remove()\n",
    "\n",
    "abs.show()"
   ]
  },
  {
   "cell_type": "code",
   "execution_count": null,
   "id": "a53111ff-6c3d-4e40-8f7c-092041ab3f31",
   "metadata": {},
   "outputs": [],
   "source": []
  }
 ],
 "metadata": {
  "kernelspec": {
   "display_name": "Python 3 (ipykernel)",
   "language": "python",
   "name": "python3"
  },
  "language_info": {
   "codemirror_mode": {
    "name": "ipython",
    "version": 3
   },
   "file_extension": ".py",
   "mimetype": "text/x-python",
   "name": "python",
   "nbconvert_exporter": "python",
   "pygments_lexer": "ipython3",
   "version": "3.9.2"
  }
 },
 "nbformat": 4,
 "nbformat_minor": 5
}
